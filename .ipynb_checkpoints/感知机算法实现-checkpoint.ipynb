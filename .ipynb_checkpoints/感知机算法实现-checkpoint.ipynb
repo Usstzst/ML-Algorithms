{
 "cells": [
  {
   "cell_type": "markdown",
   "metadata": {},
   "source": [
    "# 原始形式"
   ]
  },
  {
   "cell_type": "markdown",
   "metadata": {},
   "source": [
    "\n",
    "![title](\"./img/感知机算法原始形式.png\")\n"
   ]
  },
  {
   "cell_type": "code",
   "execution_count": 5,
   "metadata": {},
   "outputs": [
    {
     "name": "stdout",
     "output_type": "stream",
     "text": [
      "w: [0, 0] b: 0\n",
      "w: [3, 3] b: 1\n",
      "w: [2, 2] b: 0\n",
      "w: [1, 1] b: -1\n",
      "w: [0, 0] b: -2\n",
      "w: [3, 3] b: -1\n",
      "w: [2, 2] b: -2\n",
      "[1, 1] -3\n"
     ]
    }
   ],
   "source": [
    "from numpy import *  \n",
    "import operator\n",
    "import os\n",
    "\n",
    "\n",
    "\n",
    "# create a dataset which contains 3 samples with 2 classes  \n",
    "def createDataSet():  \n",
    "    # create a matrix: each row as a sample  \n",
    "    group = array([[3,3], [4,3], [1,1]])  \n",
    "    labels = [1, 1, -1] # four samples and two classes  \n",
    "    return group, labels\n",
    "\n",
    "#classify using perceptron\n",
    "def perceptronClassify(trainGroup,trainLabels):\n",
    "    global w, b\n",
    "    isFind = False  #the flag of find the best w and b\n",
    "    numSamples = trainGroup.shape[0]\n",
    "    mLenth = trainGroup.shape[1]\n",
    "    w = [0]*mLenth\n",
    "    b = 0\n",
    "    while(not isFind):\n",
    "        for i in range(numSamples):\n",
    "            if cal(trainGroup[i],trainLabels[i]) <= 0:\n",
    "                print('w:', w, 'b:', b)\n",
    "                update(trainGroup[i],trainLabels[i])\n",
    "                break    #end for loop\n",
    "            elif i == numSamples-1:\n",
    "                print(w, b)\n",
    "                isFind = True   #end while loop\n",
    "\n",
    "\n",
    "def cal(row,trainLabel):\n",
    "    global w, b\n",
    "    res = 0\n",
    "    for i in range(len(row)):\n",
    "        res += row[i] * w[i]\n",
    "    res += b\n",
    "    res *= trainLabel\n",
    "    return res\n",
    "def update(row,trainLabel):\n",
    "    global w, b\n",
    "    for i in range(len(row)):\n",
    "        w[i] += trainLabel * row[i]\n",
    "    b += trainLabel\n",
    "    \n",
    "    \n",
    "if __name__=='__main__':\n",
    "    g,l = createDataSet()\n",
    "    perceptronClassify(g,l)\n"
   ]
  },
  {
   "cell_type": "markdown",
   "metadata": {},
   "source": [
    "# 对偶形式"
   ]
  },
  {
   "cell_type": "code",
   "execution_count": 16,
   "metadata": {},
   "outputs": [
    {
     "name": "stdout",
     "output_type": "stream",
     "text": [
      "[0 0] 0\n",
      "[3 3] 1\n",
      "[2 2] 0\n",
      "[1 1] -1\n",
      "[0 0] -2\n",
      "[3 3] -1\n",
      "[2 2] -2\n",
      "[1 1] -3\n"
     ]
    }
   ],
   "source": [
    "from numpy import *  \n",
    "import operator\n",
    "import os\n",
    "\n",
    "\n",
    "\n",
    "# create a dataset which contains 3 samples with 2 classes  \n",
    "def createDataSet():  \n",
    "    # create a matrix: each row as a sample  \n",
    "    group = array([[3,3], [4,3], [1,1]])  \n",
    "    labels = [1, 1, -1] # four samples and two classes  \n",
    "    return group, labels\n",
    "\n",
    "#classify using DualPerception\n",
    "def dualPerceptionClassify(trainGroup,trainLabels):\n",
    "    global a,b\n",
    "    isFind = False\n",
    "    numSamples = trainGroup.shape[0]\n",
    "    #mLenth = trainGroup.shape[1]\n",
    "    a = [0]*numSamples\n",
    "    b = 0\n",
    "    gMatrix = cal_gram(trainGroup)\n",
    "    while(not isFind):\n",
    "        for i in range(numSamples):\n",
    "            if cal(gMatrix,trainLabels,i) <= 0:\n",
    "                cal_wb(trainGroup,trainLabels)\n",
    "                update(i,trainLabels[i])\n",
    "                break\n",
    "            elif i == numSamples-1:\n",
    "                cal_wb(trainGroup,trainLabels)\n",
    "                isFind = True\n",
    "    \n",
    "\n",
    "# caculate the Gram matrix\n",
    "def cal_gram(group):\n",
    "    mLenth = group.shape[0]\n",
    "    gMatrix = zeros((mLenth,mLenth))\n",
    "    for i in range(mLenth):\n",
    "        for j in range(mLenth):\n",
    "            gMatrix[i][j] =  dot(group[i],group[j])\n",
    "    return gMatrix\n",
    "\n",
    "def update(i,trainLabel):\n",
    "    global a,b\n",
    "    a[i] += 1\n",
    "    b += trainLabel\n",
    "\n",
    "def cal(gMatrix,trainLabels,key):\n",
    "    global a,b\n",
    "    res = 0\n",
    "    for i in range(len(trainLabels)):\n",
    "        res += a[i]*trainLabels[i]*gMatrix[key][i]\n",
    "    res = (res + b)*trainLabels[key]\n",
    "    return res\n",
    "\n",
    "#caculator w and b,then print it\n",
    "def cal_wb(group,labels):\n",
    "    global a,b\n",
    "    w=[0]*(group.shape[1])\n",
    "    h = 0\n",
    "    for i in range(len(labels)):\n",
    "        h +=a[i]*labels[i]\n",
    "        w +=a[i]*labels[i]*group[i]\n",
    "    print(w,h)\n",
    "    \n",
    "    \n",
    "    \n",
    "if __name__=='__main__':\n",
    "    g, l = createDataSet()\n",
    "    dualPerceptionClassify(g, l)"
   ]
  }
 ],
 "metadata": {
  "kernelspec": {
   "display_name": "Python 3",
   "language": "python",
   "name": "python3"
  },
  "language_info": {
   "codemirror_mode": {
    "name": "ipython",
    "version": 3
   },
   "file_extension": ".py",
   "mimetype": "text/x-python",
   "name": "python",
   "nbconvert_exporter": "python",
   "pygments_lexer": "ipython3",
   "version": "3.7.3"
  }
 },
 "nbformat": 4,
 "nbformat_minor": 2
}
